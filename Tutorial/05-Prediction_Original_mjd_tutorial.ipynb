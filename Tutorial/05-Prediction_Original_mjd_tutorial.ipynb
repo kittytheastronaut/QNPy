{
 "cells": [
  {
   "cell_type": "markdown",
   "id": "2eb68f9e",
   "metadata": {},
   "source": [
    "# Prediction and ploting in original MJD range, individual plots"
   ]
  },
  {
   "cell_type": "markdown",
   "id": "7b37f6d7",
   "metadata": {},
   "source": [
    "Before running this script, you must create the following folders in the directory where your Python notebook is located:\n",
    "1. ./output/predictions/train/plots -- folder for saving training plots\n",
    "2. ./output/predictions/test/plots -- folder for saving test plots \n",
    "3. ./output/predictions/val/plots -- folder for saving validation plots\n",
    "4. ./output/predictions/train/data -- folder for sving train data\n",
    "5. ./output/predictions/test/data -- folder for saving test data\n",
    "6. ./output/predictions/val/data -- folder for saving val data"
   ]
  },
  {
   "cell_type": "code",
   "execution_count": null,
   "id": "6528506f",
   "metadata": {},
   "outputs": [],
   "source": [
    "import QNPy #Importing the package\n",
    "from QNPy import PREDICTION_Original_mjd as por #Importing PREDICTION_onePDF module from the package\n",
    "from QNPy.PREDICTION_Original_mjd import * #Importing importing all packages from PREDICTION_onePDF module\n",
    "#The functions plot_function2, back_x and back_y must be imported separately\n",
    "from QNPy.PREDICTION_Original_mjd import plot_function2, back_x, back_y, find_LC_transform "
   ]
  },
  {
   "cell_type": "code",
   "execution_count": null,
   "id": "34a4647e",
   "metadata": {},
   "outputs": [],
   "source": [
    "#defining the device, it can be cpu of cuda\n",
    "device = torch.device(\"cuda\" if torch.cuda.is_available() else \"cpu\")\n",
    "device"
   ]
  },
  {
   "cell_type": "code",
   "execution_count": null,
   "id": "7d04b3e4",
   "metadata": {},
   "outputs": [],
   "source": [
    "DATA_PATH_TRAIN = \"./dataset/train\" #path to train folder\n",
    "DATA_PATH_VAL = \"./dataset/val\" #path to val folder\n",
    "DATA_PATH_TEST=\"./dataset/test\" #path to test folder\n",
    "OUTPUT_PATH = \"./output/predictions/\" #path where to save the plots and data\n",
    "\n",
    "MODEL_PATH = \"./output/cnp_model.pth\" #path to saved model"
   ]
  },
  {
   "cell_type": "code",
   "execution_count": null,
   "id": "5a9557a2",
   "metadata": {},
   "outputs": [],
   "source": [
    "clear_output_dir=por.prepare_output_dir(OUTPUT_PATH)#clearing outputh dir, it can be sciped"
   ]
  },
  {
   "cell_type": "code",
   "execution_count": null,
   "id": "21b57ce7",
   "metadata": {},
   "outputs": [],
   "source": [
    "model = por.load_trained_model(MODEL_PATH, device)#loading model"
   ]
  },
  {
   "cell_type": "code",
   "execution_count": null,
   "id": "7d507138",
   "metadata": {},
   "outputs": [],
   "source": [
    "criterion, mseMetric=por.get_criteria()#loading criterion and metrics"
   ]
  },
  {
   "cell_type": "code",
   "execution_count": null,
   "id": "3f8a486b",
   "metadata": {},
   "outputs": [],
   "source": [
    "#deleting the padded values from test set\n",
    "#deleting the curves that we add with plus and minus errors\n",
    "#filtering the original curves for plotting\n",
    "\n",
    "if __name__ == \"__main__\":\n",
    "    folder_path = \"./dataset/test\"  # Change this to your dataset folder\n",
    "\n",
    "    por.remove_padded_values_and_filter(folder_path)"
   ]
  },
  {
   "cell_type": "code",
   "execution_count": null,
   "id": "e437fb5b",
   "metadata": {},
   "outputs": [],
   "source": [
    "#deleting the padded values from train set\n",
    "#deleting the curves that we add with plus and minus errors\n",
    "#filtering the original curves for plotting\n",
    "\n",
    "if __name__ == \"__main__\":\n",
    "    folder_path = \"./dataset/train\"  # Change this to your dataset folder\n",
    "\n",
    "    por.remove_padded_values_and_filter(folder_path)"
   ]
  },
  {
   "cell_type": "code",
   "execution_count": null,
   "id": "663bafe1",
   "metadata": {},
   "outputs": [],
   "source": [
    "#deleting the padded values from val set\n",
    "#deleting the curves that we add with plus and minus errors\n",
    "#filtering the original curves for plotting\n",
    "\n",
    "if __name__ == \"__main__\":\n",
    "    folder_path = \"./dataset/val\"  # Change this to your dataset folder\n",
    "\n",
    "    por.remove_padded_values_and_filter(folder_path)"
   ]
  },
  {
   "cell_type": "code",
   "execution_count": null,
   "id": "9c37007e",
   "metadata": {},
   "outputs": [],
   "source": [
    "tr=por.load_trcoeff()#loading the coeffitients"
   ]
  },
  {
   "cell_type": "code",
   "execution_count": null,
   "id": "2238dfb9",
   "metadata": {},
   "outputs": [],
   "source": [
    "testLoader=por.load_test_data(DATA_PATH_TEST)#loading test data"
   ]
  },
  {
   "cell_type": "code",
   "execution_count": null,
   "id": "afc96758",
   "metadata": {},
   "outputs": [],
   "source": [
    "trainLoader=por.load_train_data(DATA_PATH_TRAIN)#loading trained data"
   ]
  },
  {
   "cell_type": "code",
   "execution_count": null,
   "id": "2a25d724",
   "metadata": {},
   "outputs": [],
   "source": [
    "valLoader=por.load_val_data(DATA_PATH_VAL)#loading validation data"
   ]
  },
  {
   "cell_type": "code",
   "execution_count": null,
   "id": "4a47e5b2",
   "metadata": {},
   "outputs": [],
   "source": [
    "#prediction and ploting of test data\n",
    "testMetrics=por.plot_test_data(model, testLoader, criterion, mseMetric, plot_function2, device, tr)"
   ]
  },
  {
   "cell_type": "code",
   "execution_count": null,
   "id": "df624800",
   "metadata": {},
   "outputs": [],
   "source": [
    "savetest=por.save_test_metrics(OUTPUT_PATH, testMetrics)#saving test metrics"
   ]
  },
  {
   "cell_type": "code",
   "execution_count": null,
   "id": "0245b613",
   "metadata": {},
   "outputs": [],
   "source": [
    "#prediction adn plotting the train data\n",
    "trainMetrics=por.plot_train_light_curves(trainLoader, model, criterion, mseMetric, plot_function2, device,tr)"
   ]
  },
  {
   "cell_type": "code",
   "execution_count": null,
   "id": "c47f6d82",
   "metadata": {},
   "outputs": [],
   "source": [
    "savetrain=por.save_train_metrics(OUTPUT_PATH, trainMetrics)#saving train metrics"
   ]
  },
  {
   "cell_type": "code",
   "execution_count": null,
   "id": "618b8202",
   "metadata": {},
   "outputs": [],
   "source": [
    "#prediction and plotting val data\n",
    "valMetrics=por.plot_val_curves(model, valLoader, criterion, mseMetric, plot_function2, device,tr)"
   ]
  },
  {
   "cell_type": "code",
   "execution_count": null,
   "id": "846b82bf",
   "metadata": {},
   "outputs": [],
   "source": [
    "saveval=por.save_val_metrics(OUTPUT_PATH, valMetrics)#saving validation metrics"
   ]
  }
 ],
 "metadata": {
  "kernelspec": {
   "display_name": "Python 3 (ipykernel)",
   "language": "python",
   "name": "python3"
  }
 },
 "nbformat": 4,
 "nbformat_minor": 5
}

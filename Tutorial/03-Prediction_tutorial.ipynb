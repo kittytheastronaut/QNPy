{
 "cells": [
  {
   "cell_type": "markdown",
   "id": "25802435",
   "metadata": {},
   "source": [
    "# Prediction "
   ]
  },
  {
   "cell_type": "markdown",
   "id": "a54e796d",
   "metadata": {},
   "source": [
    "Before running this script, you must create the following folders in the directory where your Python notebook is located:\n",
    "1. ./output/predictions/train/plots -- folder for saving training plots\n",
    "2. ./output/predictions/test/plots -- folder for saving test plots \n",
    "3. ./output/predictions/val/plots -- folder for saving validation plots\n",
    "4. ./output/predictions/train/data -- folder for sving train data\n",
    "5. ./output/predictions/test/data -- folder for saving test data\n",
    "6. ./output/predictions/val/data -- folder for saving val data"
   ]
  },
  {
   "cell_type": "code",
   "execution_count": null,
   "id": "0f2ecec2",
   "metadata": {},
   "outputs": [],
   "source": [
    "import QNPy #Importing the package\n",
    "from QNPy import PREDICTION as pr #Importing PREDICTION module from the package\n",
    "from QNPy.PREDICTION import * #Importing all packages from PREDICTION module\n",
    "from QNPy.PREDICTION import plot_function #The functions plot_function must be imported separately"
   ]
  },
  {
   "cell_type": "code",
   "execution_count": null,
   "id": "b484e3b7",
   "metadata": {},
   "outputs": [],
   "source": [
    "#defining the device, it can be cpu of cuda\n",
    "device = torch.device(\"cuda\" if torch.cuda.is_available() else \"cpu\")\n",
    "device"
   ]
  },
  {
   "cell_type": "code",
   "execution_count": null,
   "id": "2c539d98",
   "metadata": {},
   "outputs": [],
   "source": [
    "DATA_PATH_TRAIN = \"./dataset/train\" #path to train folder\n",
    "DATA_PATH_VAL = \"./dataset/val\" #path to val folder\n",
    "DATA_PATH_TEST=\"./dataset/test\" #path to test folder\n",
    "OUTPUT_PATH = \"./output/predictions\" #path where to save the plots and data\n",
    "\n",
    "MODEL_PATH = \"./output/cnp_model.pth\" #path to saved model"
   ]
  },
  {
   "cell_type": "code",
   "execution_count": null,
   "id": "41e4f5e4",
   "metadata": {},
   "outputs": [],
   "source": [
    "pr.prepare_output_dir(OUTPUT_PATH)#clearing outputh dir, it can be sciped"
   ]
  },
  {
   "cell_type": "code",
   "execution_count": null,
   "id": "b5cc49b2",
   "metadata": {},
   "outputs": [],
   "source": [
    "model = pr.load_trained_model(MODEL_PATH, device) #loading the model"
   ]
  },
  {
   "cell_type": "code",
   "execution_count": null,
   "id": "6fed08cf",
   "metadata": {},
   "outputs": [],
   "source": [
    "criterion, mseMetric= pr.get_criteria()#loading criterion and metrics from model"
   ]
  },
  {
   "cell_type": "code",
   "execution_count": null,
   "id": "7a57dbc1",
   "metadata": {},
   "outputs": [],
   "source": [
    "#deleting the padded values from test set\n",
    "#deleting the curves that we add with plus and minus errors\n",
    "#filtering the original curves for plotting\n",
    "\n",
    "if __name__ == \"__main__\":\n",
    "    folder_path = \"./dataset/test\"  # Change this to your dataset folder\n",
    "\n",
    "    pr.remove_padded_values_and_filter(folder_path)"
   ]
  },
  {
   "cell_type": "code",
   "execution_count": null,
   "id": "ce773815",
   "metadata": {},
   "outputs": [],
   "source": [
    "#deleting the padded values from train set\n",
    "#deleting the curves that we add with plus and minus errors\n",
    "#filtering the original curves for plotting\n",
    "\n",
    "if __name__ == \"__main__\":\n",
    "    folder_path = \"./dataset/train\"  # Change this to your dataset folder\n",
    "\n",
    "    pr.remove_padded_values_and_filter(folder_path)"
   ]
  },
  {
   "cell_type": "code",
   "execution_count": null,
   "id": "84a5975e",
   "metadata": {},
   "outputs": [],
   "source": [
    "#deleting the padded values from val set\n",
    "#deleting the curves that we add with plus and minus errors\n",
    "#filtering the original curves for plotting\n",
    "\n",
    "if __name__ == \"__main__\":\n",
    "    folder_path = \"./dataset/val\"  # Change this to your dataset folder\n",
    "\n",
    "    pr.remove_padded_values_and_filter(folder_path)"
   ]
  },
  {
   "cell_type": "code",
   "execution_count": null,
   "id": "cf6d3be0",
   "metadata": {},
   "outputs": [],
   "source": [
    "testLoader=pr.load_test_data(DATA_PATH_TEST)#loading test data"
   ]
  },
  {
   "cell_type": "code",
   "execution_count": null,
   "id": "e67edc39",
   "metadata": {},
   "outputs": [],
   "source": [
    "trainLoader=pr.load_train_data(DATA_PATH_TRAIN)#loading trained data"
   ]
  },
  {
   "cell_type": "code",
   "execution_count": null,
   "id": "717906f7",
   "metadata": {},
   "outputs": [],
   "source": [
    "valLoader=pr.load_val_data(DATA_PATH_VAL)#loading validation data"
   ]
  },
  {
   "cell_type": "code",
   "execution_count": null,
   "id": "fae77b66",
   "metadata": {},
   "outputs": [],
   "source": [
    "#prediction and plotting the test data\n",
    "testMetrics=pr.plot_light_curves_from_test_set(model, testLoader, criterion, mseMetric, plot_function, device)"
   ]
  },
  {
   "cell_type": "code",
   "execution_count": null,
   "id": "b9d0fcf8",
   "metadata": {},
   "outputs": [],
   "source": [
    "saveTestMetric=pr.save_test_metrics('./output/predictions/', testMetrics)#saving the test Metrics"
   ]
  },
  {
   "cell_type": "code",
   "execution_count": null,
   "id": "20d64c3e",
   "metadata": {},
   "outputs": [],
   "source": [
    "#prediction and plotting the train data\n",
    "trainMetrics=pr.plot_light_curves_from_train_set(trainLoader, model, criterion, mseMetric, plot_function, device)"
   ]
  },
  {
   "cell_type": "code",
   "execution_count": null,
   "id": "fb63ecaf",
   "metadata": {},
   "outputs": [],
   "source": [
    "saveTrainMetric=pr.save_train_metrics('./output/predictions/', trainMetric)#saving the train metrics "
   ]
  },
  {
   "cell_type": "code",
   "execution_count": null,
   "id": "a39ffd72",
   "metadata": {},
   "outputs": [],
   "source": [
    "#prediction and plotting the val data\n",
    "valMetric=pr.plot_light_curves_from_val_set(model, valLoader, criterion, mseMetric, plot_function, device)"
   ]
  },
  {
   "cell_type": "code",
   "execution_count": null,
   "id": "f4b660c2",
   "metadata": {},
   "outputs": [],
   "source": [
    "saveValMetrics=pr.save_val_metrics('./output/predictions/', valMetric)#saving the val metrics "
   ]
  }
 ],
 "metadata": {
  "kernelspec": {
   "display_name": "Python 3 (ipykernel)",
   "language": "python",
   "name": "python3"
  }
 },
 "nbformat": 4,
 "nbformat_minor": 5
}

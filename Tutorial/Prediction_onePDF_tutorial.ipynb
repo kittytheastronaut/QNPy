{
 "cells": [
  {
   "cell_type": "markdown",
   "id": "48fa0662",
   "metadata": {},
   "source": [
    "# Prediction and ploting in one PDF file"
   ]
  },
  {
   "cell_type": "markdown",
   "id": "ca0fcf55",
   "metadata": {},
   "source": [
    "Before running this script, you must create the following folders in the directory where your Python notebook is located:\n",
    "1. ./output/predictions/train/plots -- folder for saving training plots\n",
    "2. ./output/predictions/test/plots -- folder for saving test plots \n",
    "3. ./output/predictions/val/plots -- folder for saving validation plots\n",
    "4. ./output/predictions/train/data -- folder for sving train data\n",
    "5. ./output/predictions/test/data -- folder for saving test data\n",
    "6. ./output/predictions/val/data -- folder for saving val data"
   ]
  },
  {
   "cell_type": "code",
   "execution_count": null,
   "id": "92849821",
   "metadata": {},
   "outputs": [],
   "source": [
    "import QNPy #Importing the package\n",
    "from QNPy import PREDICTION_onePDF as prp #Importing PREDICTION module from the package\n",
    "from QNPy.PREDICTION_onePDF import * #Importing importing all packages from PREDICTION module\n",
    "from QNPy.PREDICTION_onePDF import plot_function #The functions plot_function must be imported separately"
   ]
  },
  {
   "cell_type": "code",
   "execution_count": null,
   "id": "1a35ba01",
   "metadata": {},
   "outputs": [],
   "source": [
    "#defining the device, it can be cpu of cuda\n",
    "device = torch.device(\"cuda\" if torch.cuda.is_available() else \"cpu\")\n",
    "device"
   ]
  },
  {
   "cell_type": "code",
   "execution_count": null,
   "id": "2c8c4553",
   "metadata": {},
   "outputs": [],
   "source": [
    "DATA_PATH_TRAIN = \"./dataset/train\" #path to train folder\n",
    "DATA_PATH_VAL = \"./dataset/val\" #path to val folder\n",
    "DATA_PATH_TEST=\"./dataset/test\" #path to test folder\n",
    "OUTPUT_PATH = \"./output/predictions/\" #path where to save the plots and data\n",
    "\n",
    "MODEL_PATH = \"./output/cnp_model.pth\" #path to saved model"
   ]
  },
  {
   "cell_type": "code",
   "execution_count": null,
   "id": "9cf4adb1",
   "metadata": {},
   "outputs": [],
   "source": [
    "prp.clear_output_dir(OUTPUT_PATH)#clearing outputh dir. It can be sciped"
   ]
  },
  {
   "cell_type": "code",
   "execution_count": null,
   "id": "e933bfc1",
   "metadata": {},
   "outputs": [],
   "source": [
    "model = prp.load_model(MODEL_PATH, device) #loading the model"
   ]
  },
  {
   "cell_type": "code",
   "execution_count": null,
   "id": "e67d7183",
   "metadata": {},
   "outputs": [],
   "source": [
    "criterion, mseMetric= prp.get_criteria()#loading criterion and metrics from model"
   ]
  },
  {
   "cell_type": "code",
   "execution_count": null,
   "id": "ab9dbf9f",
   "metadata": {},
   "outputs": [],
   "source": [
    "#deleting the padded values from test set\n",
    "#deleting the curves that we add with plus and minus errors\n",
    "#filtering the original curves for plotting\n",
    "\n",
    "if __name__ == \"__main__\":\n",
    "    folder_path = \"./dataset/test\"  # Change this to your dataset folder\n",
    "\n",
    "    prp.remove_padded_values_and_filter(folder_path)"
   ]
  },
  {
   "cell_type": "code",
   "execution_count": null,
   "id": "07140f3a",
   "metadata": {},
   "outputs": [],
   "source": [
    "#deleting the padded values from train set\n",
    "#deleting the curves that we add with plus and minus errors\n",
    "#filtering the original curves for plotting\n",
    "\n",
    "if __name__ == \"__main__\":\n",
    "    folder_path = \"./dataset/train\"  # Change this to your dataset folder\n",
    "\n",
    "    prp.remove_padded_values_and_filter(folder_path)"
   ]
  },
  {
   "cell_type": "code",
   "execution_count": null,
   "id": "2136df38",
   "metadata": {},
   "outputs": [],
   "source": [
    "#deleting the padded values from val set\n",
    "#deleting the curves that we add with plus and minus errors\n",
    "#filtering the original curves for plotting\n",
    "\n",
    "if __name__ == \"__main__\":\n",
    "    folder_path = \"./dataset/val\"  # Change this to your dataset folder\n",
    "\n",
    "    prp.remove_padded_values_and_filter(folder_path)"
   ]
  },
  {
   "cell_type": "code",
   "execution_count": null,
   "id": "45f5297c",
   "metadata": {},
   "outputs": [],
   "source": [
    "testSet, testLoader=prp.load_test_data(DATA_PATH_TEST)#loading test data"
   ]
  },
  {
   "cell_type": "code",
   "execution_count": null,
   "id": "3d5ca839",
   "metadata": {},
   "outputs": [],
   "source": [
    "trainSet, trainLoader=prp.load_train_data(DATA_PATH_TRAIN)#loading trained data"
   ]
  },
  {
   "cell_type": "code",
   "execution_count": null,
   "id": "9db91076",
   "metadata": {},
   "outputs": [],
   "source": [
    "valSet, valLoader = prp.load_val_data(DATA_PATH_VAL)#loading validation data"
   ]
  },
  {
   "cell_type": "code",
   "execution_count": null,
   "id": "e86af345",
   "metadata": {},
   "outputs": [],
   "source": [
    "#plotting the test data\n",
    "testMetrics=prp.plot_test_light_curves(model, testLoader, criterion, mseMetric, plot_function, device)"
   ]
  },
  {
   "cell_type": "code",
   "execution_count": null,
   "id": "d4562a30",
   "metadata": {},
   "outputs": [],
   "source": [
    "save_Test_Metrics=prp.save_test_metrics(OUTPUT_PATH, testMetrics)#saving test metrics"
   ]
  },
  {
   "cell_type": "code",
   "execution_count": null,
   "id": "079ba32a",
   "metadata": {},
   "outputs": [],
   "source": [
    "#plotting the train data\n",
    "trainMetrics=prp.plot_train_light_curves(model, trainLoader, criterion, mseMetric, plot_function, device)"
   ]
  },
  {
   "cell_type": "code",
   "execution_count": null,
   "id": "40c8dc37",
   "metadata": {},
   "outputs": [],
   "source": [
    "save_Train_metrics=prp.save_train_metrics(OUTPUT_PATH, trainMetrics)#saving train metrics"
   ]
  },
  {
   "cell_type": "code",
   "execution_count": null,
   "id": "4e6b103d",
   "metadata": {},
   "outputs": [],
   "source": [
    "#plotting the val data\n",
    "valMetrics=prp.plot_val_light_curves(model, valLoader, criterion, mseMetric, plot_function, device)"
   ]
  },
  {
   "cell_type": "code",
   "execution_count": null,
   "id": "5ec658e2",
   "metadata": {},
   "outputs": [],
   "source": [
    "save_Val_metrics=prp.save_val_metrics(OUTPUT_PATH, valMetrics)#saving the val metrics"
   ]
  }
 ],
 "metadata": {
  "kernelspec": {
   "display_name": "Python 3 (ipykernel)",
   "language": "python",
   "name": "python3"
  }
 },
 "nbformat": 4,
 "nbformat_minor": 5
}

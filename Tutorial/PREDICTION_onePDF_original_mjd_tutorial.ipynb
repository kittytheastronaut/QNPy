{
 "cells": [
  {
   "cell_type": "markdown",
   "id": "e35b51dd",
   "metadata": {},
   "source": [
    "# Prediction and ploting in original MJD range, one PDF"
   ]
  },
  {
   "cell_type": "markdown",
   "id": "9c88720e",
   "metadata": {},
   "source": [
    "Before running this script, you must create the following folders in the directory where your Python notebook is located:\n",
    "1. ./output/predictions/train/plots -- folder for saving training plots\n",
    "2. ./output/predictions/test/plots -- folder for saving test plots \n",
    "3. ./output/predictions/val/plots -- folder for saving validation plots\n",
    "4. ./output/predictions/train/data -- folder for sving train data\n",
    "5. ./output/predictions/test/data -- folder for saving test data\n",
    "6. ./output/predictions/val/data -- folder for saving val data"
   ]
  },
  {
   "cell_type": "code",
   "execution_count": null,
   "id": "cfeb4dea",
   "metadata": {},
   "outputs": [],
   "source": [
    "import QNPy #Importing the package\n",
    "#Importing PREDICTION_onePDF_original_mjd module from the package\n",
    "from QNPy import PREDICTION_onePDF_original_mjd as pop\n",
    "#Importing all packages from PREDICTION_onePDF_original_mjd module\n",
    "from QNPy.PREDICTION_onePDF_original_mjd import * \n",
    "#The functions plot_function2, back_x, back_y and find_LC_transorm must be imported separately\n",
    "from QNPy.PREDICTION_onePDF_original_mjd import plot_function2, back_x, back_y, find_LC_transform "
   ]
  },
  {
   "cell_type": "code",
   "execution_count": null,
   "id": "be5676c8",
   "metadata": {},
   "outputs": [],
   "source": [
    "#defining the device, it can be cpu or cuda\n",
    "device = torch.device(\"cuda\" if torch.cuda.is_available() else \"cpu\")\n",
    "device"
   ]
  },
  {
   "cell_type": "code",
   "execution_count": null,
   "id": "b7e3842d",
   "metadata": {},
   "outputs": [],
   "source": [
    "DATA_PATH_TRAIN = \"./dataset/train\" #path to train folder\n",
    "DATA_PATH_VAL = \"./dataset/val\" #path to val folder\n",
    "DATA_PATH_TEST=\"./dataset/test\" #path to test folder\n",
    "OUTPUT_PATH = \"./output/predictions/\" #path where to save the plots and data\n",
    "\n",
    "MODEL_PATH = \"./output/cnp_model.pth\" #path to saved model"
   ]
  },
  {
   "cell_type": "code",
   "execution_count": null,
   "id": "740b675d",
   "metadata": {},
   "outputs": [],
   "source": [
    "clearfolders=pop.clear_output_dir(OUTPUT_PATH)#clearing the output directorium, it can be sciped"
   ]
  },
  {
   "cell_type": "code",
   "execution_count": null,
   "id": "f569b00a",
   "metadata": {},
   "outputs": [],
   "source": [
    "model = pop.load_model(MODEL_PATH, device)#loading trained model"
   ]
  },
  {
   "cell_type": "code",
   "execution_count": null,
   "id": "2016e541",
   "metadata": {},
   "outputs": [],
   "source": [
    "criterion, mseMetric=pop.get_criteria()#loading criterion adn metrics"
   ]
  },
  {
   "cell_type": "code",
   "execution_count": null,
   "id": "a703cd7a",
   "metadata": {},
   "outputs": [],
   "source": [
    "#deleting the padded values from test set\n",
    "#deleting the curves that we add with plus and minus errors\n",
    "#filtering the original curves for plotting\n",
    "\n",
    "if __name__ == \"__main__\":\n",
    "    folder_path = \"./dataset/test\"  # Change this to your dataset folder\n",
    "\n",
    "    pop.remove_padded_values_and_filter(folder_path)"
   ]
  },
  {
   "cell_type": "code",
   "execution_count": null,
   "id": "ed895193",
   "metadata": {},
   "outputs": [],
   "source": [
    "#deleting the padded values from train set\n",
    "#deleting the curves that we add with plus and minus errors\n",
    "#filtering the original curves for plotting\n",
    "\n",
    "if __name__ == \"__main__\":\n",
    "    folder_path = \"./dataset/train\"  # Change this to your dataset folder\n",
    "\n",
    "    pop.remove_padded_values_and_filter(folder_path)"
   ]
  },
  {
   "cell_type": "code",
   "execution_count": null,
   "id": "1d623d98",
   "metadata": {},
   "outputs": [],
   "source": [
    "#deleting the padded values from val set\n",
    "#deleting the curves that we add with plus and minus errors\n",
    "#filtering the original curves for plotting\n",
    "\n",
    "if __name__ == \"__main__\":\n",
    "    folder_path = \"./dataset/val\"  # Change this to your dataset folder\n",
    "\n",
    "    pop.remove_padded_values_and_filter(folder_path)"
   ]
  },
  {
   "cell_type": "code",
   "execution_count": null,
   "id": "683f7f69",
   "metadata": {},
   "outputs": [],
   "source": [
    "tr=pop.load_trcoeff()#loading the transformation coeff"
   ]
  },
  {
   "cell_type": "code",
   "execution_count": null,
   "id": "3c97ab72",
   "metadata": {},
   "outputs": [],
   "source": [
    "testSet, testLoader=pop.load_test_data(DATA_PATH_TEST)#loading test data"
   ]
  },
  {
   "cell_type": "code",
   "execution_count": null,
   "id": "4941f519",
   "metadata": {},
   "outputs": [],
   "source": [
    "trainSet, trainLoader=pop.load_train_data(DATA_PATH_TRAIN)#loading train data"
   ]
  },
  {
   "cell_type": "code",
   "execution_count": null,
   "id": "30e11e15",
   "metadata": {},
   "outputs": [],
   "source": [
    "valSet, valLoader = pop.load_val_data(DATA_PATH_VAL)#loading validation data"
   ]
  },
  {
   "cell_type": "code",
   "execution_count": null,
   "id": "e9a8d358",
   "metadata": {},
   "outputs": [],
   "source": [
    "#prediction and plotting od test data\n",
    "testMetrics=pop.plot_test_light_curves(model, testLoader, criterion, mseMetric, plot_function2, device,tr)"
   ]
  },
  {
   "cell_type": "code",
   "execution_count": null,
   "id": "fa9ddde7",
   "metadata": {},
   "outputs": [],
   "source": [
    "savetest=pop.save_test_metrics(OUTPUT_PATH, testMetrics)#saving the test metrics"
   ]
  },
  {
   "cell_type": "code",
   "execution_count": null,
   "id": "183404fe",
   "metadata": {},
   "outputs": [],
   "source": [
    "#prediction and plotting train data\n",
    "trainMetrics=pop.plot_train_light_curves(model, trainLoader, criterion, mseMetric, plot_function2, device,tr)"
   ]
  },
  {
   "cell_type": "code",
   "execution_count": null,
   "id": "ae5f1b0a",
   "metadata": {},
   "outputs": [],
   "source": [
    "savetrain=pop.save_train_metrics(OUTPUT_PATH, trainMetrics)#saving train metrics"
   ]
  },
  {
   "cell_type": "code",
   "execution_count": null,
   "id": "afae765b",
   "metadata": {},
   "outputs": [],
   "source": [
    "#prediction and plotting val data\n",
    "valMetrics=pop.plot_val_light_curves(model, valLoader, criterion, mseMetric, plot_function2, device,tr)"
   ]
  },
  {
   "cell_type": "code",
   "execution_count": null,
   "id": "8c26a723",
   "metadata": {},
   "outputs": [],
   "source": [
    "saveval=pop.save_val_metrics(OUTPUT_PATH, valMetrics)#saving the val metrics"
   ]
  },
  {
   "cell_type": "markdown",
   "id": "89d95f9d",
   "metadata": {},
   "source": [
    "# THE END"
   ]
  }
 ],
 "metadata": {
  "kernelspec": {
   "display_name": "Python 3 (ipykernel)",
   "language": "python",
   "name": "python3"
  }
 },
 "nbformat": 4,
 "nbformat_minor": 5
}
